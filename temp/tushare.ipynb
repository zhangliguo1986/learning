import tushare
df = tushare.get_hist_data('000001')
print(df)